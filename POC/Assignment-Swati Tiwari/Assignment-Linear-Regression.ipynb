{
 "cells": [
  {
   "cell_type": "markdown",
   "metadata": {},
   "source": [
    "# Assignment - Liner Regression"
   ]
  },
  {
   "cell_type": "code",
   "execution_count": 18,
   "metadata": {},
   "outputs": [
    {
     "name": "stdout",
     "output_type": "stream",
     "text": [
      "*** No CODEPAGE record, no encoding_override: will use 'ascii'\n"
     ]
    },
    {
     "data": {
      "image/png": "[encoded data removed]",
      "text/plain": [
       "<Figure size 432x288 with 1 Axes>"
      ]
     },
     "metadata": {
      "needs_background": "light"
     },
     "output_type": "display_data"
    },
    {
     "name": "stdout",
     "output_type": "stream",
     "text": [
      "Slope :  0.8511440378638504 \n",
      "Coefficient :  0.4345844908253138\n",
      "RSE :  0.10868338378542268 \n",
      "R_sq :  0.9970831247402355\n",
      "test 27.67119370246853\n"
     ]
    }
   ],
   "source": [
    "import pandas as pd\n",
    "import numpy as np\n",
    "import matplotlib.pyplot as plt\n",
    "import math\n",
    "\n",
    "# read File\n",
    "dframe = pd.read_excel(\"https://college.cengage.com/mathematics/brase/understandable_statistics/7e/students/datasets/slr/excel/slr01.xls\")\n",
    "\n",
    "X_data = dframe['X'].values\n",
    "Y_data = dframe['Y'].values\n",
    "\n",
    "# Calculate Mean \n",
    "X_mean = X_data.mean()\n",
    "Y_mean = Y_data.mean()\n",
    "\n",
    "Num,Den = 0,0\n",
    "\n",
    "# Calculation for slope & coeffiecient\n",
    "for i in range(len(X_data)):\n",
    "    Num+=(X_data[i]-X_mean) * (Y_data[i]-Y_mean)\n",
    "    Den+= (X_data[i]-X_mean)**2\n",
    "    \n",
    "slope = Num/Den\n",
    "coeffiecient =Y_mean-slope*X_mean\n",
    "\n",
    "y_pred=[]\n",
    "for i in range(len(X_data)):\n",
    "    y_pred.append(coeffiecient+(slope*X_data[i]))\n",
    "    \n",
    "# Grpah Plot\n",
    "plt.scatter(X_data,Y_data)\n",
    "plt.plot(X_data,y_pred,'r')\n",
    "plt.xlim(left=0)\n",
    "plt.ylim(bottom=0)\n",
    "plt.xlabel('List Price')\n",
    "plt.ylabel('Best Price')\n",
    "plt.title('List Price Vs. Best Price for a New GMC Pickup')\n",
    "plt.axhline()\n",
    "plt.axvline()\n",
    "plt.grid()\n",
    "plt.show()\n",
    "\n",
    "# Calculation for RMSE & R2\n",
    "RSS,TSS=0,0\n",
    "for k in range(len(X_data)):\n",
    "    RSS+=(Y_data[k]-y_pred[k])**2\n",
    "    TSS+=(Y_data[k]-Y_mean)**2\n",
    "\n",
    "RSE=math.sqrt(RSS/len(X_data))\n",
    "R_sq= 1-(RSS/TSS)\n",
    "\n",
    "print('Slope : ',slope,'\\nCoefficient : ',coeffiecient)\n",
    "print('RSE : ',RSE,'\\nR_sq : ',R_sq)\n",
    "\n",
    "#print('RSS : ',RSS,'\\nTSS : ',TSS)\n",
    "#print('X_Mean : ',X_mean,'\\nY_Mean : ',Y_mean)\n",
    "print('test',coeffiecient+(slope*32))\n",
    "# predict_for(input())"
   ]
  },
  {
   "cell_type": "code",
   "execution_count": 16,
   "metadata": {},
   "outputs": [
    {
     "name": "stdout",
     "output_type": "stream",
     "text": [
      "*** No CODEPAGE record, no encoding_override: will use 'ascii'\n"
     ]
    },
    {
     "name": "stderr",
     "output_type": "stream",
     "text": [
      "/home/swatitiwari/anaconda3/lib/python3.7/site-packages/matplotlib/axes/_base.py:3215: MatplotlibDeprecationWarning: \n",
      "The `xmin` argument was deprecated in Matplotlib 3.0 and will be removed in 3.2. Use `left` instead.\n",
      "  alternative='`left`', obj_type='argument')\n",
      "/home/swatitiwari/anaconda3/lib/python3.7/site-packages/matplotlib/axes/_base.py:3604: MatplotlibDeprecationWarning: \n",
      "The `ymin` argument was deprecated in Matplotlib 3.0 and will be removed in 3.2. Use `bottom` instead.\n",
      "  alternative='`bottom`', obj_type='argument')\n"
     ]
    },
    {
     "data": {
      "image/png": "[encoded data removed]",
      "text/plain": [
       "<Figure size 432x288 with 1 Axes>"
      ]
     },
     "metadata": {
      "needs_background": "light"
     },
     "output_type": "display_data"
    },
    {
     "name": "stdout",
     "output_type": "stream",
     "text": [
      "Mean Square Error:  0.10868338378542285\n",
      "Accuracy:  0.9970831247402355\n"
     ]
    }
   ],
   "source": [
    "from sklearn.linear_model import LinearRegression\n",
    "from sklearn.metrics import mean_squared_error\n",
    "# Cannot use Rank 1 matrix in scikit learn\n",
    "\n",
    "dframe = pd.read_excel(\"https://college.cengage.com/mathematics/brase/understandable_statistics/7e/students/datasets/slr/excel/slr01.xls\")\n",
    "\n",
    "X = dframe['X'].values\n",
    "Y = dframe['Y'].values\n",
    "m = len(X)\n",
    "\n",
    "X = X.reshape((m, 1))\n",
    "# Creating Model\n",
    "reg = LinearRegression()\n",
    "# Fitting training data\n",
    "reg = reg.fit(X, Y)\n",
    "# Y Prediction\n",
    "Y_pred = reg.predict(X)\n",
    "\n",
    "# Calculating RMSE and R2 Score\n",
    "mse = mean_squared_error(Y, Y_pred)\n",
    "rmse = np.sqrt(mse)\n",
    "r2_score = reg.score(X, Y) # scores are btw 0 and 1 , larger score indicating  a better fit\n",
    "\n",
    "# Grpah Plot\n",
    "plt.scatter(X,Y)\n",
    "plt.plot(X_data,y_pred,'r')\n",
    "plt.xlim(left=0)\n",
    "plt.ylim(bottom=0)\n",
    "plt.xlabel('List Price')\n",
    "plt.ylabel('Best Price')\n",
    "plt.title('List Price Vs. Best Price for a New GMC Pickup')\n",
    "plt.axhline()\n",
    "plt.axvline()\n",
    "plt.grid()\n",
    "plt.show()\n",
    "\n",
    "print('Mean Square Error: ', np.sqrt(mse))\n",
    "print('Accuracy: ', r2_score)\n"
   ]
  }
 ],
 "metadata": {
  "kernelspec": {
   "display_name": "Python 3",
   "language": "python",
   "name": "python3"
  },
  "language_info": {
   "codemirror_mode": {
    "name": "ipython",
    "version": 3
   },
   "file_extension": ".py",
   "mimetype": "text/x-python",
   "name": "python",
   "nbconvert_exporter": "python",
   "pygments_lexer": "ipython3",
   "version": "3.7.1"
  }
 },
 "nbformat": 4,
 "nbformat_minor": 2
}
